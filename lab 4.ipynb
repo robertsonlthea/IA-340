{
 "cells": [
  {
   "cell_type": "markdown",
   "id": "6cf3d669",
   "metadata": {},
   "source": [
    "# lab 4"
   ]
  },
  {
   "cell_type": "markdown",
   "id": "8014592b",
   "metadata": {},
   "source": [
    "### import python libraries"
   ]
  },
  {
   "cell_type": "code",
   "execution_count": 1,
   "id": "abb9cb09",
   "metadata": {},
   "outputs": [
    {
     "name": "stderr",
     "output_type": "stream",
     "text": [
      "/home/ec2-user/anaconda3/envs/python3/lib/python3.6/site-packages/psycopg2/__init__.py:144: UserWarning: The psycopg2 wheel package will be renamed from release 2.8; in order to keep installing from binary please use \"pip install psycopg2-binary\" instead. For details see: <http://initd.org/psycopg/docs/install.html#binary-install-from-pypi>.\n",
      "  \"\"\")\n"
     ]
    }
   ],
   "source": [
    "import pandas \n",
    "import psycopg2\n",
    "import configparser"
   ]
  },
  {
   "cell_type": "markdown",
   "id": "24c93b9d",
   "metadata": {},
   "source": [
    "### connect to database"
   ]
  },
  {
   "cell_type": "code",
   "execution_count": 2,
   "id": "d54f554d",
   "metadata": {},
   "outputs": [],
   "source": [
    "config = configparser.ConfigParser()\n",
    "config.read('config.ini')\n",
    "\n",
    "host=config['myaws']['host']\n",
    "db=config['myaws']['db']\n",
    "user=config['myaws']['user']\n",
    "pwd = config['myaws']['pwd']\n",
    "\n",
    "conn = psycopg2.connect(  host=host,\n",
    "                       user=user,\n",
    "                       password = pwd,\n",
    "                       dbname=db)"
   ]
  },
  {
   "cell_type": "code",
   "execution_count": 3,
   "id": "60a7f538",
   "metadata": {},
   "outputs": [],
   "source": [
    "cur=conn.cursor()"
   ]
  },
  {
   "cell_type": "markdown",
   "id": "559665ea",
   "metadata": {},
   "source": [
    "### question 3.1"
   ]
  },
  {
   "cell_type": "code",
   "execution_count": 5,
   "id": "9fc9ca2f",
   "metadata": {},
   "outputs": [],
   "source": [
    "q1_sql = \"\"\"\n",
    "    select * from gp2.student\n",
    "\"\"\""
   ]
  },
  {
   "cell_type": "code",
   "execution_count": 8,
   "id": "777a9144",
   "metadata": {},
   "outputs": [
    {
     "data": {
      "text/html": [
       "<div>\n",
       "<style scoped>\n",
       "    .dataframe tbody tr th:only-of-type {\n",
       "        vertical-align: middle;\n",
       "    }\n",
       "\n",
       "    .dataframe tbody tr th {\n",
       "        vertical-align: top;\n",
       "    }\n",
       "\n",
       "    .dataframe thead th {\n",
       "        text-align: right;\n",
       "    }\n",
       "</style>\n",
       "<table border=\"1\" class=\"dataframe\">\n",
       "  <thead>\n",
       "    <tr style=\"text-align: right;\">\n",
       "      <th></th>\n",
       "      <th>student_email</th>\n",
       "      <th>student_name</th>\n",
       "      <th>student_maj</th>\n",
       "    </tr>\n",
       "  </thead>\n",
       "  <tbody>\n",
       "    <tr>\n",
       "      <th>0</th>\n",
       "      <td>getzaj@dukes.jmu.edu</td>\n",
       "      <td>Alyssa Getz</td>\n",
       "      <td>Intelligence Analysis</td>\n",
       "    </tr>\n",
       "    <tr>\n",
       "      <th>1</th>\n",
       "      <td>rober6tl@dukes.jmu.edu</td>\n",
       "      <td>Theadora Robertson</td>\n",
       "      <td>Intelligence Analysis</td>\n",
       "    </tr>\n",
       "    <tr>\n",
       "      <th>2</th>\n",
       "      <td>hacketcb@dukes.jmu.edu</td>\n",
       "      <td>Caleb Hackett</td>\n",
       "      <td>Intelligence Analysis</td>\n",
       "    </tr>\n",
       "    <tr>\n",
       "      <th>3</th>\n",
       "      <td>jtblack222@gmail.com</td>\n",
       "      <td>Jacob Black</td>\n",
       "      <td>Intelligence Analysis</td>\n",
       "    </tr>\n",
       "  </tbody>\n",
       "</table>\n",
       "</div>"
      ],
      "text/plain": [
       "            student_email        student_name            student_maj\n",
       "0    getzaj@dukes.jmu.edu         Alyssa Getz  Intelligence Analysis\n",
       "1  rober6tl@dukes.jmu.edu  Theadora Robertson  Intelligence Analysis\n",
       "2  hacketcb@dukes.jmu.edu       Caleb Hackett  Intelligence Analysis\n",
       "3    jtblack222@gmail.com         Jacob Black  Intelligence Analysis"
      ]
     },
     "execution_count": 8,
     "metadata": {},
     "output_type": "execute_result"
    }
   ],
   "source": [
    "df = pandas.read_sql_query (q1_sql,conn)\n",
    "df[:]"
   ]
  },
  {
   "cell_type": "markdown",
   "id": "dfcfcc50",
   "metadata": {},
   "source": [
    "### question 3.2"
   ]
  },
  {
   "cell_type": "code",
   "execution_count": 9,
   "id": "0d932071",
   "metadata": {},
   "outputs": [],
   "source": [
    "sql_q2 = \"\"\"\n",
    "    select gp2.professor.prof_name,\n",
    "    gp2.course.course_name\n",
    "    from gp2.professor\n",
    "    inner join gp2.course\n",
    "    on gp2.professor.prof_email = gp2.course.prof_email\n",
    "\"\"\"\n",
    "                "
   ]
  },
  {
   "cell_type": "code",
   "execution_count": 10,
   "id": "58c5ece4",
   "metadata": {},
   "outputs": [
    {
     "data": {
      "text/html": [
       "<div>\n",
       "<style scoped>\n",
       "    .dataframe tbody tr th:only-of-type {\n",
       "        vertical-align: middle;\n",
       "    }\n",
       "\n",
       "    .dataframe tbody tr th {\n",
       "        vertical-align: top;\n",
       "    }\n",
       "\n",
       "    .dataframe thead th {\n",
       "        text-align: right;\n",
       "    }\n",
       "</style>\n",
       "<table border=\"1\" class=\"dataframe\">\n",
       "  <thead>\n",
       "    <tr style=\"text-align: right;\">\n",
       "      <th></th>\n",
       "      <th>prof_name</th>\n",
       "      <th>course_name</th>\n",
       "    </tr>\n",
       "  </thead>\n",
       "  <tbody>\n",
       "    <tr>\n",
       "      <th>0</th>\n",
       "      <td>Noel Hendrickson</td>\n",
       "      <td>Counterfactual Reasoning</td>\n",
       "    </tr>\n",
       "    <tr>\n",
       "      <th>1</th>\n",
       "      <td>Xuebin Wei</td>\n",
       "      <td>Data Mining</td>\n",
       "    </tr>\n",
       "    <tr>\n",
       "      <th>2</th>\n",
       "      <td>Stephen Marrin</td>\n",
       "      <td>Seminar on Issues in Intelligence Analysis</td>\n",
       "    </tr>\n",
       "    <tr>\n",
       "      <th>3</th>\n",
       "      <td>Claire Lyons</td>\n",
       "      <td>None</td>\n",
       "    </tr>\n",
       "    <tr>\n",
       "      <th>4</th>\n",
       "      <td>Claire Lyons</td>\n",
       "      <td>Money Laundering</td>\n",
       "    </tr>\n",
       "  </tbody>\n",
       "</table>\n",
       "</div>"
      ],
      "text/plain": [
       "          prof_name                                 course_name\n",
       "0  Noel Hendrickson                    Counterfactual Reasoning\n",
       "1        Xuebin Wei                                 Data Mining\n",
       "2    Stephen Marrin  Seminar on Issues in Intelligence Analysis\n",
       "3      Claire Lyons                                        None\n",
       "4      Claire Lyons                            Money Laundering"
      ]
     },
     "execution_count": 10,
     "metadata": {},
     "output_type": "execute_result"
    }
   ],
   "source": [
    "df = pandas.read_sql_query (sql_q2,conn)\n",
    "df[:]"
   ]
  },
  {
   "cell_type": "markdown",
   "id": "9636c42e",
   "metadata": {},
   "source": [
    "### question 3.3"
   ]
  },
  {
   "cell_type": "code",
   "execution_count": 11,
   "id": "467a88b4",
   "metadata": {},
   "outputs": [],
   "source": [
    "sql_q3 = \"\"\"\n",
    "    select course_num, \n",
    "    count (course_num) as enrolled\n",
    "    from gp2.enroll_list\n",
    "    group by course_num\n",
    "\"\"\""
   ]
  },
  {
   "cell_type": "code",
   "execution_count": 13,
   "id": "a6525c02",
   "metadata": {},
   "outputs": [
    {
     "data": {
      "text/plain": [
       "<AxesSubplot:xlabel='course_num'>"
      ]
     },
     "execution_count": 13,
     "metadata": {},
     "output_type": "execute_result"
    },
    {
     "data": {
      "image/png": "[encoded data removed]",
      "text/plain": [
       "<Figure size 432x288 with 1 Axes>"
      ]
     },
     "metadata": {
      "needs_background": "light"
     },
     "output_type": "display_data"
    }
   ],
   "source": [
    "df = pandas.read_sql_query (sql_q3,conn)\n",
    "df.plot.bar(y='enrolled', x='course_num')"
   ]
  },
  {
   "cell_type": "markdown",
   "id": "2959694d",
   "metadata": {},
   "source": [
    "### question 3.4"
   ]
  },
  {
   "cell_type": "code",
   "execution_count": 17,
   "id": "119f9e01",
   "metadata": {},
   "outputs": [],
   "source": [
    "sql_q4 = \"\"\"\n",
    "    select gp2.professor.prof_name,\n",
    "    count (gp2.course.course_name) as teaching_number\n",
    "    from gp2.professor\n",
    "    inner join gp2.course\n",
    "    on gp2.professor.prof_email = gp2.course.prof_email\n",
    "    group by professor.prof_name\n",
    "\"\"\""
   ]
  },
  {
   "cell_type": "code",
   "execution_count": 18,
   "id": "adaf0c4c",
   "metadata": {},
   "outputs": [
    {
     "data": {
      "text/plain": [
       "<AxesSubplot:xlabel='prof_name'>"
      ]
     },
     "execution_count": 18,
     "metadata": {},
     "output_type": "execute_result"
    },
    {
     "data": {
      "image/png": "[encoded data removed]",
      "text/plain": [
       "<Figure size 432x288 with 1 Axes>"
      ]
     },
     "metadata": {
      "needs_background": "light"
     },
     "output_type": "display_data"
    }
   ],
   "source": [
    "df = pandas.read_sql_query (sql_q4,conn)\n",
    "df.plot.bar(y='teaching_number', x='prof_name')"
   ]
  },
  {
   "cell_type": "markdown",
   "id": "9d420236",
   "metadata": {},
   "source": [
    "### question 3.5"
   ]
  },
  {
   "cell_type": "code",
   "execution_count": 19,
   "id": "9eb0a729",
   "metadata": {},
   "outputs": [],
   "source": [
    "sql_q5_professor = \"\"\"\n",
    "    insert into gp2.professor(prof_email,prof_name,office_num)\n",
    "                values('{}','{}','{}')\n",
    "                                \n",
    "                \"\"\".format('Bonsal@jmu.edu','Dudley Bonsal','ISAT 210')"
   ]
  },
  {
   "cell_type": "code",
   "execution_count": 20,
   "id": "54b194c5",
   "metadata": {},
   "outputs": [],
   "source": [
    "cur.execute(sql_q5_professor)"
   ]
  },
  {
   "cell_type": "code",
   "execution_count": 21,
   "id": "9808dd6a",
   "metadata": {},
   "outputs": [],
   "source": [
    "conn.commit()"
   ]
  },
  {
   "cell_type": "code",
   "execution_count": 22,
   "id": "6602bb2f",
   "metadata": {},
   "outputs": [
    {
     "data": {
      "text/html": [
       "<div>\n",
       "<style scoped>\n",
       "    .dataframe tbody tr th:only-of-type {\n",
       "        vertical-align: middle;\n",
       "    }\n",
       "\n",
       "    .dataframe tbody tr th {\n",
       "        vertical-align: top;\n",
       "    }\n",
       "\n",
       "    .dataframe thead th {\n",
       "        text-align: right;\n",
       "    }\n",
       "</style>\n",
       "<table border=\"1\" class=\"dataframe\">\n",
       "  <thead>\n",
       "    <tr style=\"text-align: right;\">\n",
       "      <th></th>\n",
       "      <th>prof_email</th>\n",
       "      <th>prof_name</th>\n",
       "      <th>office_num</th>\n",
       "    </tr>\n",
       "  </thead>\n",
       "  <tbody>\n",
       "    <tr>\n",
       "      <th>0</th>\n",
       "      <td>hendrix@jmu.edu</td>\n",
       "      <td>Noel Hendrickson</td>\n",
       "      <td>ISAT 322</td>\n",
       "    </tr>\n",
       "    <tr>\n",
       "      <th>1</th>\n",
       "      <td>weixx@jmu.edu</td>\n",
       "      <td>Xuebin Wei</td>\n",
       "      <td>ISAT 112</td>\n",
       "    </tr>\n",
       "    <tr>\n",
       "      <th>2</th>\n",
       "      <td>raabrw@jmu.edu</td>\n",
       "      <td>Ronald Raab</td>\n",
       "      <td>ISAT 156</td>\n",
       "    </tr>\n",
       "    <tr>\n",
       "      <th>3</th>\n",
       "      <td>marrinsp@jmu.edu</td>\n",
       "      <td>Stephen Marrin</td>\n",
       "      <td>ENGEO 2104</td>\n",
       "    </tr>\n",
       "    <tr>\n",
       "      <th>4</th>\n",
       "      <td>new_p_e</td>\n",
       "      <td>new_p_n</td>\n",
       "      <td>new_2nd_o</td>\n",
       "    </tr>\n",
       "    <tr>\n",
       "      <th>5</th>\n",
       "      <td>lyonsca@jmu.edu</td>\n",
       "      <td>Claire Lyons</td>\n",
       "      <td>None</td>\n",
       "    </tr>\n",
       "    <tr>\n",
       "      <th>6</th>\n",
       "      <td>Bonsal@jmu.edu</td>\n",
       "      <td>Dudley Bonsal</td>\n",
       "      <td>ISAT 210</td>\n",
       "    </tr>\n",
       "  </tbody>\n",
       "</table>\n",
       "</div>"
      ],
      "text/plain": [
       "         prof_email         prof_name  office_num\n",
       "0   hendrix@jmu.edu  Noel Hendrickson    ISAT 322\n",
       "1     weixx@jmu.edu        Xuebin Wei    ISAT 112\n",
       "2    raabrw@jmu.edu       Ronald Raab    ISAT 156\n",
       "3  marrinsp@jmu.edu    Stephen Marrin  ENGEO 2104\n",
       "4           new_p_e           new_p_n   new_2nd_o\n",
       "5   lyonsca@jmu.edu      Claire Lyons        None\n",
       "6    Bonsal@jmu.edu     Dudley Bonsal    ISAT 210"
      ]
     },
     "execution_count": 22,
     "metadata": {},
     "output_type": "execute_result"
    }
   ],
   "source": [
    "df = pandas.read_sql_query ('select * from gp2.professor',conn)\n",
    "df[:]"
   ]
  },
  {
   "cell_type": "code",
   "execution_count": 30,
   "id": "da1f5c7f",
   "metadata": {},
   "outputs": [],
   "source": [
    "sql_q5_course = \"\"\"\n",
    "    insert into gp2.course(course_num, course_name, room_num, prof_email)\n",
    "                values('{}','{}','{}','{}')\n",
    "                                \n",
    "                \"\"\".format('ISAT 290', 'Foreign Nation Progression', 'ENGEO 2110', 'Bonsal@jmu.edu')"
   ]
  },
  {
   "cell_type": "code",
   "execution_count": 31,
   "id": "91e79859",
   "metadata": {},
   "outputs": [],
   "source": [
    "cur.execute(sql_q5_course)"
   ]
  },
  {
   "cell_type": "code",
   "execution_count": 29,
   "id": "50561d0e",
   "metadata": {},
   "outputs": [],
   "source": [
    "conn.rollback()"
   ]
  },
  {
   "cell_type": "code",
   "execution_count": 32,
   "id": "45a3738f",
   "metadata": {},
   "outputs": [],
   "source": [
    "conn.commit()"
   ]
  },
  {
   "cell_type": "code",
   "execution_count": 33,
   "id": "f05e3f65",
   "metadata": {},
   "outputs": [
    {
     "data": {
      "text/html": [
       "<div>\n",
       "<style scoped>\n",
       "    .dataframe tbody tr th:only-of-type {\n",
       "        vertical-align: middle;\n",
       "    }\n",
       "\n",
       "    .dataframe tbody tr th {\n",
       "        vertical-align: top;\n",
       "    }\n",
       "\n",
       "    .dataframe thead th {\n",
       "        text-align: right;\n",
       "    }\n",
       "</style>\n",
       "<table border=\"1\" class=\"dataframe\">\n",
       "  <thead>\n",
       "    <tr style=\"text-align: right;\">\n",
       "      <th></th>\n",
       "      <th>course_num</th>\n",
       "      <th>course_name</th>\n",
       "      <th>room_num</th>\n",
       "      <th>prof_email</th>\n",
       "    </tr>\n",
       "  </thead>\n",
       "  <tbody>\n",
       "    <tr>\n",
       "      <th>0</th>\n",
       "      <td>IA 313</td>\n",
       "      <td>Counterfactual Reasoning</td>\n",
       "      <td>ENGEO 1204</td>\n",
       "      <td>hendrix@jmu.edu</td>\n",
       "    </tr>\n",
       "    <tr>\n",
       "      <th>1</th>\n",
       "      <td>IA 340</td>\n",
       "      <td>Data Mining</td>\n",
       "      <td>ENGEO 2010</td>\n",
       "      <td>weixx@jmu.edu</td>\n",
       "    </tr>\n",
       "    <tr>\n",
       "      <th>2</th>\n",
       "      <td>IA 300</td>\n",
       "      <td>Seminar on Issues in Intelligence Analysis</td>\n",
       "      <td>ISAT 150</td>\n",
       "      <td>marrinsp@jmu.edu</td>\n",
       "    </tr>\n",
       "    <tr>\n",
       "      <th>3</th>\n",
       "      <td>154</td>\n",
       "      <td>None</td>\n",
       "      <td>None</td>\n",
       "      <td>lyonsca@jmu.edu</td>\n",
       "    </tr>\n",
       "    <tr>\n",
       "      <th>4</th>\n",
       "      <td>IA 480</td>\n",
       "      <td>Money Laundering</td>\n",
       "      <td>ISAT 0148</td>\n",
       "      <td>lyonsca@jmu.edu</td>\n",
       "    </tr>\n",
       "    <tr>\n",
       "      <th>5</th>\n",
       "      <td>ISAT 290</td>\n",
       "      <td>Foreign Nation Progression</td>\n",
       "      <td>ENGEO 2110</td>\n",
       "      <td>Bonsal@jmu.edu</td>\n",
       "    </tr>\n",
       "  </tbody>\n",
       "</table>\n",
       "</div>"
      ],
      "text/plain": [
       "  course_num                                 course_name    room_num  \\\n",
       "0     IA 313                    Counterfactual Reasoning  ENGEO 1204   \n",
       "1     IA 340                                 Data Mining  ENGEO 2010   \n",
       "2     IA 300  Seminar on Issues in Intelligence Analysis    ISAT 150   \n",
       "3        154                                        None        None   \n",
       "4     IA 480                            Money Laundering   ISAT 0148   \n",
       "5   ISAT 290                  Foreign Nation Progression  ENGEO 2110   \n",
       "\n",
       "         prof_email  \n",
       "0   hendrix@jmu.edu  \n",
       "1     weixx@jmu.edu  \n",
       "2  marrinsp@jmu.edu  \n",
       "3   lyonsca@jmu.edu  \n",
       "4   lyonsca@jmu.edu  \n",
       "5    Bonsal@jmu.edu  "
      ]
     },
     "execution_count": 33,
     "metadata": {},
     "output_type": "execute_result"
    }
   ],
   "source": [
    "df = pandas.read_sql_query ('select * from gp2.course',conn)\n",
    "df[:]"
   ]
  },
  {
   "cell_type": "markdown",
   "id": "904bed86",
   "metadata": {},
   "source": [
    "### question 3.6"
   ]
  },
  {
   "cell_type": "code",
   "execution_count": 59,
   "id": "c1c3c840",
   "metadata": {},
   "outputs": [],
   "source": [
    "sql_q6_course = \"\"\"\n",
    "    update gp2.course\n",
    "    set prof_email = '{}'\n",
    "    where prof_email = '{}'\n",
    "\"\"\".format('Bonsal@jmu.edu','lyonsca@jmu.edu')"
   ]
  },
  {
   "cell_type": "code",
   "execution_count": 60,
   "id": "aa096598",
   "metadata": {},
   "outputs": [],
   "source": [
    "cur.execute(sql_q6_course)"
   ]
  },
  {
   "cell_type": "code",
   "execution_count": 61,
   "id": "5a9f3325",
   "metadata": {},
   "outputs": [],
   "source": [
    "conn.commit()"
   ]
  },
  {
   "cell_type": "code",
   "execution_count": 62,
   "id": "155035db",
   "metadata": {},
   "outputs": [
    {
     "data": {
      "text/html": [
       "<div>\n",
       "<style scoped>\n",
       "    .dataframe tbody tr th:only-of-type {\n",
       "        vertical-align: middle;\n",
       "    }\n",
       "\n",
       "    .dataframe tbody tr th {\n",
       "        vertical-align: top;\n",
       "    }\n",
       "\n",
       "    .dataframe thead th {\n",
       "        text-align: right;\n",
       "    }\n",
       "</style>\n",
       "<table border=\"1\" class=\"dataframe\">\n",
       "  <thead>\n",
       "    <tr style=\"text-align: right;\">\n",
       "      <th></th>\n",
       "      <th>course_num</th>\n",
       "      <th>course_name</th>\n",
       "      <th>room_num</th>\n",
       "      <th>prof_email</th>\n",
       "    </tr>\n",
       "  </thead>\n",
       "  <tbody>\n",
       "    <tr>\n",
       "      <th>0</th>\n",
       "      <td>IA 313</td>\n",
       "      <td>Counterfactual Reasoning</td>\n",
       "      <td>ENGEO 1204</td>\n",
       "      <td>hendrix@jmu.edu</td>\n",
       "    </tr>\n",
       "    <tr>\n",
       "      <th>1</th>\n",
       "      <td>IA 340</td>\n",
       "      <td>Data Mining</td>\n",
       "      <td>ENGEO 2010</td>\n",
       "      <td>weixx@jmu.edu</td>\n",
       "    </tr>\n",
       "    <tr>\n",
       "      <th>2</th>\n",
       "      <td>IA 300</td>\n",
       "      <td>Seminar on Issues in Intelligence Analysis</td>\n",
       "      <td>ISAT 150</td>\n",
       "      <td>marrinsp@jmu.edu</td>\n",
       "    </tr>\n",
       "    <tr>\n",
       "      <th>3</th>\n",
       "      <td>ISAT 290</td>\n",
       "      <td>Foreign Nation Progression</td>\n",
       "      <td>ENGEO 2110</td>\n",
       "      <td>Bonsal@jmu.edu</td>\n",
       "    </tr>\n",
       "    <tr>\n",
       "      <th>4</th>\n",
       "      <td>154</td>\n",
       "      <td>None</td>\n",
       "      <td>None</td>\n",
       "      <td>Bonsal@jmu.edu</td>\n",
       "    </tr>\n",
       "    <tr>\n",
       "      <th>5</th>\n",
       "      <td>IA 480</td>\n",
       "      <td>Money Laundering</td>\n",
       "      <td>ISAT 0148</td>\n",
       "      <td>Bonsal@jmu.edu</td>\n",
       "    </tr>\n",
       "  </tbody>\n",
       "</table>\n",
       "</div>"
      ],
      "text/plain": [
       "  course_num                                 course_name    room_num  \\\n",
       "0     IA 313                    Counterfactual Reasoning  ENGEO 1204   \n",
       "1     IA 340                                 Data Mining  ENGEO 2010   \n",
       "2     IA 300  Seminar on Issues in Intelligence Analysis    ISAT 150   \n",
       "3   ISAT 290                  Foreign Nation Progression  ENGEO 2110   \n",
       "4        154                                        None        None   \n",
       "5     IA 480                            Money Laundering   ISAT 0148   \n",
       "\n",
       "         prof_email  \n",
       "0   hendrix@jmu.edu  \n",
       "1     weixx@jmu.edu  \n",
       "2  marrinsp@jmu.edu  \n",
       "3    Bonsal@jmu.edu  \n",
       "4    Bonsal@jmu.edu  \n",
       "5    Bonsal@jmu.edu  "
      ]
     },
     "execution_count": 62,
     "metadata": {},
     "output_type": "execute_result"
    }
   ],
   "source": [
    "df = pandas.read_sql_query ('select * from gp2.course',conn)\n",
    "df[:]"
   ]
  },
  {
   "cell_type": "code",
   "execution_count": 63,
   "id": "9798c6b6",
   "metadata": {},
   "outputs": [],
   "source": [
    "conn.rollback()"
   ]
  },
  {
   "cell_type": "code",
   "execution_count": 64,
   "id": "78cac4a1",
   "metadata": {},
   "outputs": [],
   "source": [
    "sql_q6_professor = \"\"\"\n",
    "    delete from gp2.professor\n",
    "    where prof_email = '{}'\n",
    "\"\"\".format('lyonsca@jmu.edu')"
   ]
  },
  {
   "cell_type": "code",
   "execution_count": 65,
   "id": "6fd991ca",
   "metadata": {},
   "outputs": [],
   "source": [
    "cur.execute(sql_q6_professor)"
   ]
  },
  {
   "cell_type": "code",
   "execution_count": 66,
   "id": "7bf65cb3",
   "metadata": {},
   "outputs": [],
   "source": [
    "conn.commit()"
   ]
  },
  {
   "cell_type": "code",
   "execution_count": 67,
   "id": "81c6e622",
   "metadata": {},
   "outputs": [
    {
     "data": {
      "text/html": [
       "<div>\n",
       "<style scoped>\n",
       "    .dataframe tbody tr th:only-of-type {\n",
       "        vertical-align: middle;\n",
       "    }\n",
       "\n",
       "    .dataframe tbody tr th {\n",
       "        vertical-align: top;\n",
       "    }\n",
       "\n",
       "    .dataframe thead th {\n",
       "        text-align: right;\n",
       "    }\n",
       "</style>\n",
       "<table border=\"1\" class=\"dataframe\">\n",
       "  <thead>\n",
       "    <tr style=\"text-align: right;\">\n",
       "      <th></th>\n",
       "      <th>prof_email</th>\n",
       "      <th>prof_name</th>\n",
       "      <th>office_num</th>\n",
       "    </tr>\n",
       "  </thead>\n",
       "  <tbody>\n",
       "    <tr>\n",
       "      <th>0</th>\n",
       "      <td>hendrix@jmu.edu</td>\n",
       "      <td>Noel Hendrickson</td>\n",
       "      <td>ISAT 322</td>\n",
       "    </tr>\n",
       "    <tr>\n",
       "      <th>1</th>\n",
       "      <td>weixx@jmu.edu</td>\n",
       "      <td>Xuebin Wei</td>\n",
       "      <td>ISAT 112</td>\n",
       "    </tr>\n",
       "    <tr>\n",
       "      <th>2</th>\n",
       "      <td>raabrw@jmu.edu</td>\n",
       "      <td>Ronald Raab</td>\n",
       "      <td>ISAT 156</td>\n",
       "    </tr>\n",
       "    <tr>\n",
       "      <th>3</th>\n",
       "      <td>marrinsp@jmu.edu</td>\n",
       "      <td>Stephen Marrin</td>\n",
       "      <td>ENGEO 2104</td>\n",
       "    </tr>\n",
       "    <tr>\n",
       "      <th>4</th>\n",
       "      <td>new_p_e</td>\n",
       "      <td>new_p_n</td>\n",
       "      <td>new_2nd_o</td>\n",
       "    </tr>\n",
       "    <tr>\n",
       "      <th>5</th>\n",
       "      <td>Bonsal@jmu.edu</td>\n",
       "      <td>Dudley Bonsal</td>\n",
       "      <td>ISAT 210</td>\n",
       "    </tr>\n",
       "  </tbody>\n",
       "</table>\n",
       "</div>"
      ],
      "text/plain": [
       "         prof_email         prof_name  office_num\n",
       "0   hendrix@jmu.edu  Noel Hendrickson    ISAT 322\n",
       "1     weixx@jmu.edu        Xuebin Wei    ISAT 112\n",
       "2    raabrw@jmu.edu       Ronald Raab    ISAT 156\n",
       "3  marrinsp@jmu.edu    Stephen Marrin  ENGEO 2104\n",
       "4           new_p_e           new_p_n   new_2nd_o\n",
       "5    Bonsal@jmu.edu     Dudley Bonsal    ISAT 210"
      ]
     },
     "execution_count": 67,
     "metadata": {},
     "output_type": "execute_result"
    }
   ],
   "source": [
    "df = pandas.read_sql_query ('select * from gp2.professor',conn)\n",
    "df[:]"
   ]
  },
  {
   "cell_type": "markdown",
   "id": "0f52a73f",
   "metadata": {},
   "source": [
    "### close connection"
   ]
  },
  {
   "cell_type": "code",
   "execution_count": 68,
   "id": "d48e1c6f",
   "metadata": {},
   "outputs": [],
   "source": [
    "cur.close()\n",
    "conn.close()"
   ]
  },
  {
   "cell_type": "code",
   "execution_count": null,
   "id": "2b12a39f",
   "metadata": {},
   "outputs": [],
   "source": []
  }
 ],
 "metadata": {
  "kernelspec": {
   "display_name": "conda_python3",
   "language": "python",
   "name": "conda_python3"
  },
  "language_info": {
   "codemirror_mode": {
    "name": "ipython",
    "version": 3
   },
   "file_extension": ".py",
   "mimetype": "text/x-python",
   "name": "python",
   "nbconvert_exporter": "python",
   "pygments_lexer": "ipython3",
   "version": "3.6.13"
  }
 },
 "nbformat": 4,
 "nbformat_minor": 5
}
